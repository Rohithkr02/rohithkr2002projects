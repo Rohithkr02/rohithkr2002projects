{
  "nbformat": 4,
  "nbformat_minor": 0,
  "metadata": {
    "colab": {
      "provenance": [],
      "mount_file_id": "1KFlrZVSi2iP47sr0OiPmh0SagnPF7015",
      "authorship_tag": "ABX9TyOc98cxmXe6pd8MniTgcqP7",
      "include_colab_link": true
    },
    "kernelspec": {
      "name": "python3",
      "display_name": "Python 3"
    },
    "language_info": {
      "name": "python"
    }
  },
  "cells": [
    {
      "cell_type": "markdown",
      "metadata": {
        "id": "view-in-github",
        "colab_type": "text"
      },
      "source": [
        "<a href=\"https://colab.research.google.com/github/Rohithkr02/rohithkr2002projects/blob/main/ML_project.ipynb\" target=\"_parent\"><img src=\"https://colab.research.google.com/assets/colab-badge.svg\" alt=\"Open In Colab\"/></a>"
      ]
    },
    {
      "cell_type": "code",
      "execution_count": 64,
      "metadata": {
        "colab": {
          "base_uri": "https://localhost:8080/",
          "height": 571
        },
        "id": "RDnfzQGB4qz_",
        "outputId": "aca7bb99-84f0-4a0c-f7a1-faafcb8c9a36"
      },
      "outputs": [
        {
          "output_type": "execute_result",
          "data": {
            "text/plain": [
              "         Area  BHK  Bathroom      Furnishing  \\\n",
              "0       800.0    3       2.0  Semi-Furnished   \n",
              "1       750.0    2       2.0  Semi-Furnished   \n",
              "2       950.0    2       2.0       Furnished   \n",
              "3       600.0    2       2.0  Semi-Furnished   \n",
              "4       650.0    2       2.0  Semi-Furnished   \n",
              "...       ...  ...       ...             ...   \n",
              "1254   4118.0    4       5.0     Unfurnished   \n",
              "1255   1050.0    3       2.0  Semi-Furnished   \n",
              "1256    875.0    3       3.0  Semi-Furnished   \n",
              "1257    990.0    2       2.0     Unfurnished   \n",
              "1258  11050.0    3       3.0     Unfurnished   \n",
              "\n",
              "                                               Locality  Parking     Price  \\\n",
              "0                                      Rohini Sector 25      1.0   6500000   \n",
              "1                J R Designers Floors, Rohini Sector 24      1.0   5000000   \n",
              "2                   Citizen Apartment, Rohini Sector 13      1.0  15500000   \n",
              "3                                      Rohini Sector 24      1.0   4200000   \n",
              "4     Rohini Sector 24 carpet area 650 sqft status R...      1.0   6200000   \n",
              "...                                                 ...      ...       ...   \n",
              "1254                                  Chittaranjan Park      3.0  55000000   \n",
              "1255                                  Chittaranjan Park      3.0  12500000   \n",
              "1256                                  Chittaranjan Park      3.0  17500000   \n",
              "1257                          Chittaranjan Park Block A      1.0  11500000   \n",
              "1258                                  Chittaranjan Park      1.0  18500000   \n",
              "\n",
              "             Status   Transaction           Type  Per_Sqft  \n",
              "0     Ready_to_move  New_Property  Builder_Floor       NaN  \n",
              "1     Ready_to_move  New_Property      Apartment    6667.0  \n",
              "2     Ready_to_move        Resale      Apartment    6667.0  \n",
              "3     Ready_to_move        Resale  Builder_Floor    6667.0  \n",
              "4     Ready_to_move  New_Property  Builder_Floor    6667.0  \n",
              "...             ...           ...            ...       ...  \n",
              "1254  Ready_to_move  New_Property  Builder_Floor   12916.0  \n",
              "1255  Ready_to_move        Resale  Builder_Floor   12916.0  \n",
              "1256  Ready_to_move  New_Property  Builder_Floor   12916.0  \n",
              "1257  Ready_to_move        Resale  Builder_Floor   12916.0  \n",
              "1258  Ready_to_move  New_Property  Builder_Floor   12916.0  \n",
              "\n",
              "[1259 rows x 11 columns]"
            ],
            "text/html": [
              "\n",
              "  <div id=\"df-e267c918-dbde-4758-a62d-00e6b6556ef6\">\n",
              "    <div class=\"colab-df-container\">\n",
              "      <div>\n",
              "<style scoped>\n",
              "    .dataframe tbody tr th:only-of-type {\n",
              "        vertical-align: middle;\n",
              "    }\n",
              "\n",
              "    .dataframe tbody tr th {\n",
              "        vertical-align: top;\n",
              "    }\n",
              "\n",
              "    .dataframe thead th {\n",
              "        text-align: right;\n",
              "    }\n",
              "</style>\n",
              "<table border=\"1\" class=\"dataframe\">\n",
              "  <thead>\n",
              "    <tr style=\"text-align: right;\">\n",
              "      <th></th>\n",
              "      <th>Area</th>\n",
              "      <th>BHK</th>\n",
              "      <th>Bathroom</th>\n",
              "      <th>Furnishing</th>\n",
              "      <th>Locality</th>\n",
              "      <th>Parking</th>\n",
              "      <th>Price</th>\n",
              "      <th>Status</th>\n",
              "      <th>Transaction</th>\n",
              "      <th>Type</th>\n",
              "      <th>Per_Sqft</th>\n",
              "    </tr>\n",
              "  </thead>\n",
              "  <tbody>\n",
              "    <tr>\n",
              "      <th>0</th>\n",
              "      <td>800.0</td>\n",
              "      <td>3</td>\n",
              "      <td>2.0</td>\n",
              "      <td>Semi-Furnished</td>\n",
              "      <td>Rohini Sector 25</td>\n",
              "      <td>1.0</td>\n",
              "      <td>6500000</td>\n",
              "      <td>Ready_to_move</td>\n",
              "      <td>New_Property</td>\n",
              "      <td>Builder_Floor</td>\n",
              "      <td>NaN</td>\n",
              "    </tr>\n",
              "    <tr>\n",
              "      <th>1</th>\n",
              "      <td>750.0</td>\n",
              "      <td>2</td>\n",
              "      <td>2.0</td>\n",
              "      <td>Semi-Furnished</td>\n",
              "      <td>J R Designers Floors, Rohini Sector 24</td>\n",
              "      <td>1.0</td>\n",
              "      <td>5000000</td>\n",
              "      <td>Ready_to_move</td>\n",
              "      <td>New_Property</td>\n",
              "      <td>Apartment</td>\n",
              "      <td>6667.0</td>\n",
              "    </tr>\n",
              "    <tr>\n",
              "      <th>2</th>\n",
              "      <td>950.0</td>\n",
              "      <td>2</td>\n",
              "      <td>2.0</td>\n",
              "      <td>Furnished</td>\n",
              "      <td>Citizen Apartment, Rohini Sector 13</td>\n",
              "      <td>1.0</td>\n",
              "      <td>15500000</td>\n",
              "      <td>Ready_to_move</td>\n",
              "      <td>Resale</td>\n",
              "      <td>Apartment</td>\n",
              "      <td>6667.0</td>\n",
              "    </tr>\n",
              "    <tr>\n",
              "      <th>3</th>\n",
              "      <td>600.0</td>\n",
              "      <td>2</td>\n",
              "      <td>2.0</td>\n",
              "      <td>Semi-Furnished</td>\n",
              "      <td>Rohini Sector 24</td>\n",
              "      <td>1.0</td>\n",
              "      <td>4200000</td>\n",
              "      <td>Ready_to_move</td>\n",
              "      <td>Resale</td>\n",
              "      <td>Builder_Floor</td>\n",
              "      <td>6667.0</td>\n",
              "    </tr>\n",
              "    <tr>\n",
              "      <th>4</th>\n",
              "      <td>650.0</td>\n",
              "      <td>2</td>\n",
              "      <td>2.0</td>\n",
              "      <td>Semi-Furnished</td>\n",
              "      <td>Rohini Sector 24 carpet area 650 sqft status R...</td>\n",
              "      <td>1.0</td>\n",
              "      <td>6200000</td>\n",
              "      <td>Ready_to_move</td>\n",
              "      <td>New_Property</td>\n",
              "      <td>Builder_Floor</td>\n",
              "      <td>6667.0</td>\n",
              "    </tr>\n",
              "    <tr>\n",
              "      <th>...</th>\n",
              "      <td>...</td>\n",
              "      <td>...</td>\n",
              "      <td>...</td>\n",
              "      <td>...</td>\n",
              "      <td>...</td>\n",
              "      <td>...</td>\n",
              "      <td>...</td>\n",
              "      <td>...</td>\n",
              "      <td>...</td>\n",
              "      <td>...</td>\n",
              "      <td>...</td>\n",
              "    </tr>\n",
              "    <tr>\n",
              "      <th>1254</th>\n",
              "      <td>4118.0</td>\n",
              "      <td>4</td>\n",
              "      <td>5.0</td>\n",
              "      <td>Unfurnished</td>\n",
              "      <td>Chittaranjan Park</td>\n",
              "      <td>3.0</td>\n",
              "      <td>55000000</td>\n",
              "      <td>Ready_to_move</td>\n",
              "      <td>New_Property</td>\n",
              "      <td>Builder_Floor</td>\n",
              "      <td>12916.0</td>\n",
              "    </tr>\n",
              "    <tr>\n",
              "      <th>1255</th>\n",
              "      <td>1050.0</td>\n",
              "      <td>3</td>\n",
              "      <td>2.0</td>\n",
              "      <td>Semi-Furnished</td>\n",
              "      <td>Chittaranjan Park</td>\n",
              "      <td>3.0</td>\n",
              "      <td>12500000</td>\n",
              "      <td>Ready_to_move</td>\n",
              "      <td>Resale</td>\n",
              "      <td>Builder_Floor</td>\n",
              "      <td>12916.0</td>\n",
              "    </tr>\n",
              "    <tr>\n",
              "      <th>1256</th>\n",
              "      <td>875.0</td>\n",
              "      <td>3</td>\n",
              "      <td>3.0</td>\n",
              "      <td>Semi-Furnished</td>\n",
              "      <td>Chittaranjan Park</td>\n",
              "      <td>3.0</td>\n",
              "      <td>17500000</td>\n",
              "      <td>Ready_to_move</td>\n",
              "      <td>New_Property</td>\n",
              "      <td>Builder_Floor</td>\n",
              "      <td>12916.0</td>\n",
              "    </tr>\n",
              "    <tr>\n",
              "      <th>1257</th>\n",
              "      <td>990.0</td>\n",
              "      <td>2</td>\n",
              "      <td>2.0</td>\n",
              "      <td>Unfurnished</td>\n",
              "      <td>Chittaranjan Park Block A</td>\n",
              "      <td>1.0</td>\n",
              "      <td>11500000</td>\n",
              "      <td>Ready_to_move</td>\n",
              "      <td>Resale</td>\n",
              "      <td>Builder_Floor</td>\n",
              "      <td>12916.0</td>\n",
              "    </tr>\n",
              "    <tr>\n",
              "      <th>1258</th>\n",
              "      <td>11050.0</td>\n",
              "      <td>3</td>\n",
              "      <td>3.0</td>\n",
              "      <td>Unfurnished</td>\n",
              "      <td>Chittaranjan Park</td>\n",
              "      <td>1.0</td>\n",
              "      <td>18500000</td>\n",
              "      <td>Ready_to_move</td>\n",
              "      <td>New_Property</td>\n",
              "      <td>Builder_Floor</td>\n",
              "      <td>12916.0</td>\n",
              "    </tr>\n",
              "  </tbody>\n",
              "</table>\n",
              "<p>1259 rows × 11 columns</p>\n",
              "</div>\n",
              "      <button class=\"colab-df-convert\" onclick=\"convertToInteractive('df-e267c918-dbde-4758-a62d-00e6b6556ef6')\"\n",
              "              title=\"Convert this dataframe to an interactive table.\"\n",
              "              style=\"display:none;\">\n",
              "        \n",
              "  <svg xmlns=\"http://www.w3.org/2000/svg\" height=\"24px\"viewBox=\"0 0 24 24\"\n",
              "       width=\"24px\">\n",
              "    <path d=\"M0 0h24v24H0V0z\" fill=\"none\"/>\n",
              "    <path d=\"M18.56 5.44l.94 2.06.94-2.06 2.06-.94-2.06-.94-.94-2.06-.94 2.06-2.06.94zm-11 1L8.5 8.5l.94-2.06 2.06-.94-2.06-.94L8.5 2.5l-.94 2.06-2.06.94zm10 10l.94 2.06.94-2.06 2.06-.94-2.06-.94-.94-2.06-.94 2.06-2.06.94z\"/><path d=\"M17.41 7.96l-1.37-1.37c-.4-.4-.92-.59-1.43-.59-.52 0-1.04.2-1.43.59L10.3 9.45l-7.72 7.72c-.78.78-.78 2.05 0 2.83L4 21.41c.39.39.9.59 1.41.59.51 0 1.02-.2 1.41-.59l7.78-7.78 2.81-2.81c.8-.78.8-2.07 0-2.86zM5.41 20L4 18.59l7.72-7.72 1.47 1.35L5.41 20z\"/>\n",
              "  </svg>\n",
              "      </button>\n",
              "      \n",
              "  <style>\n",
              "    .colab-df-container {\n",
              "      display:flex;\n",
              "      flex-wrap:wrap;\n",
              "      gap: 12px;\n",
              "    }\n",
              "\n",
              "    .colab-df-convert {\n",
              "      background-color: #E8F0FE;\n",
              "      border: none;\n",
              "      border-radius: 50%;\n",
              "      cursor: pointer;\n",
              "      display: none;\n",
              "      fill: #1967D2;\n",
              "      height: 32px;\n",
              "      padding: 0 0 0 0;\n",
              "      width: 32px;\n",
              "    }\n",
              "\n",
              "    .colab-df-convert:hover {\n",
              "      background-color: #E2EBFA;\n",
              "      box-shadow: 0px 1px 2px rgba(60, 64, 67, 0.3), 0px 1px 3px 1px rgba(60, 64, 67, 0.15);\n",
              "      fill: #174EA6;\n",
              "    }\n",
              "\n",
              "    [theme=dark] .colab-df-convert {\n",
              "      background-color: #3B4455;\n",
              "      fill: #D2E3FC;\n",
              "    }\n",
              "\n",
              "    [theme=dark] .colab-df-convert:hover {\n",
              "      background-color: #434B5C;\n",
              "      box-shadow: 0px 1px 3px 1px rgba(0, 0, 0, 0.15);\n",
              "      filter: drop-shadow(0px 1px 2px rgba(0, 0, 0, 0.3));\n",
              "      fill: #FFFFFF;\n",
              "    }\n",
              "  </style>\n",
              "\n",
              "      <script>\n",
              "        const buttonEl =\n",
              "          document.querySelector('#df-e267c918-dbde-4758-a62d-00e6b6556ef6 button.colab-df-convert');\n",
              "        buttonEl.style.display =\n",
              "          google.colab.kernel.accessAllowed ? 'block' : 'none';\n",
              "\n",
              "        async function convertToInteractive(key) {\n",
              "          const element = document.querySelector('#df-e267c918-dbde-4758-a62d-00e6b6556ef6');\n",
              "          const dataTable =\n",
              "            await google.colab.kernel.invokeFunction('convertToInteractive',\n",
              "                                                     [key], {});\n",
              "          if (!dataTable) return;\n",
              "\n",
              "          const docLinkHtml = 'Like what you see? Visit the ' +\n",
              "            '<a target=\"_blank\" href=https://colab.research.google.com/notebooks/data_table.ipynb>data table notebook</a>'\n",
              "            + ' to learn more about interactive tables.';\n",
              "          element.innerHTML = '';\n",
              "          dataTable['output_type'] = 'display_data';\n",
              "          await google.colab.output.renderOutput(dataTable, element);\n",
              "          const docLink = document.createElement('div');\n",
              "          docLink.innerHTML = docLinkHtml;\n",
              "          element.appendChild(docLink);\n",
              "        }\n",
              "      </script>\n",
              "    </div>\n",
              "  </div>\n",
              "  "
            ]
          },
          "metadata": {},
          "execution_count": 64
        }
      ],
      "source": [
        "import pandas as pd\n",
        "import warnings\n",
        "warnings.filterwarnings('ignore')\n",
        "df=pd.read_csv('/content/drive/MyDrive/dataset/MagicBricks.csv')\n",
        "df"
      ]
    },
    {
      "cell_type": "code",
      "source": [
        "df.shape"
      ],
      "metadata": {
        "colab": {
          "base_uri": "https://localhost:8080/"
        },
        "id": "__vPrIXtzjlB",
        "outputId": "5bcb846b-f746-4b94-e227-2bbc81358d03"
      },
      "execution_count": 65,
      "outputs": [
        {
          "output_type": "execute_result",
          "data": {
            "text/plain": [
              "(1259, 11)"
            ]
          },
          "metadata": {},
          "execution_count": 65
        }
      ]
    },
    {
      "cell_type": "code",
      "source": [
        "df.isna().sum()"
      ],
      "metadata": {
        "colab": {
          "base_uri": "https://localhost:8080/"
        },
        "id": "OIjItCHhQgrv",
        "outputId": "9fdb3215-613d-48f6-e04f-ece80b1eba1e"
      },
      "execution_count": 66,
      "outputs": [
        {
          "output_type": "execute_result",
          "data": {
            "text/plain": [
              "Area             0\n",
              "BHK              0\n",
              "Bathroom         2\n",
              "Furnishing       5\n",
              "Locality         0\n",
              "Parking         33\n",
              "Price            0\n",
              "Status           0\n",
              "Transaction      0\n",
              "Type             5\n",
              "Per_Sqft       241\n",
              "dtype: int64"
            ]
          },
          "metadata": {},
          "execution_count": 66
        }
      ]
    },
    {
      "cell_type": "code",
      "source": [
        "df.dtypes"
      ],
      "metadata": {
        "colab": {
          "base_uri": "https://localhost:8080/"
        },
        "id": "Yf37TOdEP6r4",
        "outputId": "67018e10-c93f-45b6-97dc-0c4aba711928"
      },
      "execution_count": 67,
      "outputs": [
        {
          "output_type": "execute_result",
          "data": {
            "text/plain": [
              "Area           float64\n",
              "BHK              int64\n",
              "Bathroom       float64\n",
              "Furnishing      object\n",
              "Locality        object\n",
              "Parking        float64\n",
              "Price            int64\n",
              "Status          object\n",
              "Transaction     object\n",
              "Type            object\n",
              "Per_Sqft       float64\n",
              "dtype: object"
            ]
          },
          "metadata": {},
          "execution_count": 67
        }
      ]
    },
    {
      "cell_type": "code",
      "source": [
        "df['Per_Sqft']=df['Per_Sqft'].fillna(df['Per_Sqft'].mean())\n",
        "df['Parking']=df['Parking'].fillna(df['Parking'].mode()[0])\n",
        "df['Bathroom']=df['Bathroom'].fillna(df['Bathroom'].mode()[0])"
      ],
      "metadata": {
        "id": "DNFCWx0eQoAx"
      },
      "execution_count": 68,
      "outputs": []
    },
    {
      "cell_type": "code",
      "source": [
        "df['Type'].unique()"
      ],
      "metadata": {
        "id": "R940Dc63efjQ",
        "colab": {
          "base_uri": "https://localhost:8080/"
        },
        "outputId": "ca572c6c-b3b7-4465-c46f-dcb48b0c5f55"
      },
      "execution_count": 69,
      "outputs": [
        {
          "output_type": "execute_result",
          "data": {
            "text/plain": [
              "array(['Builder_Floor', 'Apartment', nan], dtype=object)"
            ]
          },
          "metadata": {},
          "execution_count": 69
        }
      ]
    },
    {
      "cell_type": "code",
      "source": [
        "df['Type']=df['Type'].fillna(df['Type'].mode()[0])"
      ],
      "metadata": {
        "id": "k6u7R1cAEI-m"
      },
      "execution_count": 70,
      "outputs": []
    },
    {
      "cell_type": "code",
      "source": [
        "df['Furnishing']=df['Furnishing'].fillna(df['Furnishing'].mode()[0])\n",
        "df.isna().sum()"
      ],
      "metadata": {
        "colab": {
          "base_uri": "https://localhost:8080/"
        },
        "id": "_wfDZ7bWgpoM",
        "outputId": "33f9a645-a3dd-42d8-b457-83b4ea4baee6"
      },
      "execution_count": 71,
      "outputs": [
        {
          "output_type": "execute_result",
          "data": {
            "text/plain": [
              "Area           0\n",
              "BHK            0\n",
              "Bathroom       0\n",
              "Furnishing     0\n",
              "Locality       0\n",
              "Parking        0\n",
              "Price          0\n",
              "Status         0\n",
              "Transaction    0\n",
              "Type           0\n",
              "Per_Sqft       0\n",
              "dtype: int64"
            ]
          },
          "metadata": {},
          "execution_count": 71
        }
      ]
    },
    {
      "cell_type": "code",
      "source": [
        "import seaborn as sns\n",
        "sns.barplot(x='BHK',y='Price',data=df)"
      ],
      "metadata": {
        "colab": {
          "base_uri": "https://localhost:8080/",
          "height": 307
        },
        "id": "chOA6YOie5fH",
        "outputId": "28e4e095-8b99-4050-dd1a-a8d6d101ff23"
      },
      "execution_count": 72,
      "outputs": [
        {
          "output_type": "execute_result",
          "data": {
            "text/plain": [
              "<matplotlib.axes._subplots.AxesSubplot at 0x7f3f12144490>"
            ]
          },
          "metadata": {},
          "execution_count": 72
        },
        {
          "output_type": "display_data",
          "data": {
            "text/plain": [
              "<Figure size 432x288 with 1 Axes>"
            ],
            "image/png": "[encoded data removed]"
          },
          "metadata": {
            "needs_background": "light"
          }
        }
      ]
    },
    {
      "cell_type": "code",
      "source": [
        "sns.regplot(x='Area',y='Price',data=df)"
      ],
      "metadata": {
        "colab": {
          "base_uri": "https://localhost:8080/",
          "height": 307
        },
        "id": "_lEtOUN9gFFt",
        "outputId": "9a678cdb-39ce-422c-fa66-a69d7a741403"
      },
      "execution_count": 73,
      "outputs": [
        {
          "output_type": "execute_result",
          "data": {
            "text/plain": [
              "<matplotlib.axes._subplots.AxesSubplot at 0x7f3f11c2e5b0>"
            ]
          },
          "metadata": {},
          "execution_count": 73
        },
        {
          "output_type": "display_data",
          "data": {
            "text/plain": [
              "<Figure size 432x288 with 1 Axes>"
            ],
            "image/png": "[encoded data removed]"
          },
          "metadata": {
            "needs_background": "light"
          }
        }
      ]
    },
    {
      "cell_type": "markdown",
      "source": [
        "As the area increases,the price increases"
      ],
      "metadata": {
        "id": "dwhjnuzalR3Z"
      }
    },
    {
      "cell_type": "code",
      "source": [
        "sns.regplot(x='BHK',y='Price',data=df)"
      ],
      "metadata": {
        "colab": {
          "base_uri": "https://localhost:8080/",
          "height": 307
        },
        "id": "uwHs0zfNi_Le",
        "outputId": "89b0380e-7620-46ae-c482-4e9bf4ee0f4e"
      },
      "execution_count": 74,
      "outputs": [
        {
          "output_type": "execute_result",
          "data": {
            "text/plain": [
              "<matplotlib.axes._subplots.AxesSubplot at 0x7f3f11bdfdf0>"
            ]
          },
          "metadata": {},
          "execution_count": 74
        },
        {
          "output_type": "display_data",
          "data": {
            "text/plain": [
              "<Figure size 432x288 with 1 Axes>"
            ],
            "image/png": "[encoded data removed]"
          },
          "metadata": {
            "needs_background": "light"
          }
        }
      ]
    },
    {
      "cell_type": "code",
      "source": [
        "sns.countplot('Type',hue='Furnishing',data=df)"
      ],
      "metadata": {
        "colab": {
          "base_uri": "https://localhost:8080/",
          "height": 297
        },
        "id": "00Ez0HWlgpmz",
        "outputId": "1018e040-ffe5-45ee-9a97-57c0d6292f5c"
      },
      "execution_count": 75,
      "outputs": [
        {
          "output_type": "execute_result",
          "data": {
            "text/plain": [
              "<matplotlib.axes._subplots.AxesSubplot at 0x7f3f11bccc10>"
            ]
          },
          "metadata": {},
          "execution_count": 75
        },
        {
          "output_type": "display_data",
          "data": {
            "text/plain": [
              "<Figure size 432x288 with 1 Axes>"
            ],
            "image/png": "[encoded data removed]"
          },
          "metadata": {
            "needs_background": "light"
          }
        }
      ]
    },
    {
      "cell_type": "markdown",
      "source": [
        "here are more builder floor houses and semi furnished"
      ],
      "metadata": {
        "id": "kAnSClSEnCse"
      }
    },
    {
      "cell_type": "code",
      "source": [
        "from sklearn.preprocessing import LabelEncoder\n",
        "le=LabelEncoder()\n",
        "df['Locality']=le.fit_transform(df['Locality'])\n",
        "df['Furnishing']=le.fit_transform(df['Furnishing'])\n",
        "df['Transaction']=le.fit_transform(df['Transaction'])\n",
        "df['Type']=le.fit_transform(df['Type'])\n",
        "df['Status']=le.fit_transform(df['Status'])"
      ],
      "metadata": {
        "id": "35IDhh43K0cZ"
      },
      "execution_count": 76,
      "outputs": []
    },
    {
      "cell_type": "code",
      "source": [
        "df"
      ],
      "metadata": {
        "colab": {
          "base_uri": "https://localhost:8080/",
          "height": 423
        },
        "id": "gwQiz0jGkn2z",
        "outputId": "2fcfcb19-eb15-436b-8ced-42cd27090562"
      },
      "execution_count": 77,
      "outputs": [
        {
          "output_type": "execute_result",
          "data": {
            "text/plain": [
              "         Area  BHK  Bathroom  Furnishing  Locality  Parking     Price  Status  \\\n",
              "0       800.0    3       2.0           1       283      1.0   6500000       1   \n",
              "1       750.0    2       2.0           1       139      1.0   5000000       1   \n",
              "2       950.0    2       2.0           0        49      1.0  15500000       1   \n",
              "3       600.0    2       2.0           1       281      1.0   4200000       1   \n",
              "4       650.0    2       2.0           1       282      1.0   6200000       1   \n",
              "...       ...  ...       ...         ...       ...      ...       ...     ...   \n",
              "1254   4118.0    4       5.0           2        44      3.0  55000000       1   \n",
              "1255   1050.0    3       2.0           1        44      3.0  12500000       1   \n",
              "1256    875.0    3       3.0           1        44      3.0  17500000       1   \n",
              "1257    990.0    2       2.0           2        45      1.0  11500000       1   \n",
              "1258  11050.0    3       3.0           2        44      1.0  18500000       1   \n",
              "\n",
              "      Transaction  Type      Per_Sqft  \n",
              "0               0     1  15690.136542  \n",
              "1               0     0   6667.000000  \n",
              "2               1     0   6667.000000  \n",
              "3               1     1   6667.000000  \n",
              "4               0     1   6667.000000  \n",
              "...           ...   ...           ...  \n",
              "1254            0     1  12916.000000  \n",
              "1255            1     1  12916.000000  \n",
              "1256            0     1  12916.000000  \n",
              "1257            1     1  12916.000000  \n",
              "1258            0     1  12916.000000  \n",
              "\n",
              "[1259 rows x 11 columns]"
            ],
            "text/html": [
              "\n",
              "  <div id=\"df-50659512-653c-432e-98b7-dbf33c65ecfc\">\n",
              "    <div class=\"colab-df-container\">\n",
              "      <div>\n",
              "<style scoped>\n",
              "    .dataframe tbody tr th:only-of-type {\n",
              "        vertical-align: middle;\n",
              "    }\n",
              "\n",
              "    .dataframe tbody tr th {\n",
              "        vertical-align: top;\n",
              "    }\n",
              "\n",
              "    .dataframe thead th {\n",
              "        text-align: right;\n",
              "    }\n",
              "</style>\n",
              "<table border=\"1\" class=\"dataframe\">\n",
              "  <thead>\n",
              "    <tr style=\"text-align: right;\">\n",
              "      <th></th>\n",
              "      <th>Area</th>\n",
              "      <th>BHK</th>\n",
              "      <th>Bathroom</th>\n",
              "      <th>Furnishing</th>\n",
              "      <th>Locality</th>\n",
              "      <th>Parking</th>\n",
              "      <th>Price</th>\n",
              "      <th>Status</th>\n",
              "      <th>Transaction</th>\n",
              "      <th>Type</th>\n",
              "      <th>Per_Sqft</th>\n",
              "    </tr>\n",
              "  </thead>\n",
              "  <tbody>\n",
              "    <tr>\n",
              "      <th>0</th>\n",
              "      <td>800.0</td>\n",
              "      <td>3</td>\n",
              "      <td>2.0</td>\n",
              "      <td>1</td>\n",
              "      <td>283</td>\n",
              "      <td>1.0</td>\n",
              "      <td>6500000</td>\n",
              "      <td>1</td>\n",
              "      <td>0</td>\n",
              "      <td>1</td>\n",
              "      <td>15690.136542</td>\n",
              "    </tr>\n",
              "    <tr>\n",
              "      <th>1</th>\n",
              "      <td>750.0</td>\n",
              "      <td>2</td>\n",
              "      <td>2.0</td>\n",
              "      <td>1</td>\n",
              "      <td>139</td>\n",
              "      <td>1.0</td>\n",
              "      <td>5000000</td>\n",
              "      <td>1</td>\n",
              "      <td>0</td>\n",
              "      <td>0</td>\n",
              "      <td>6667.000000</td>\n",
              "    </tr>\n",
              "    <tr>\n",
              "      <th>2</th>\n",
              "      <td>950.0</td>\n",
              "      <td>2</td>\n",
              "      <td>2.0</td>\n",
              "      <td>0</td>\n",
              "      <td>49</td>\n",
              "      <td>1.0</td>\n",
              "      <td>15500000</td>\n",
              "      <td>1</td>\n",
              "      <td>1</td>\n",
              "      <td>0</td>\n",
              "      <td>6667.000000</td>\n",
              "    </tr>\n",
              "    <tr>\n",
              "      <th>3</th>\n",
              "      <td>600.0</td>\n",
              "      <td>2</td>\n",
              "      <td>2.0</td>\n",
              "      <td>1</td>\n",
              "      <td>281</td>\n",
              "      <td>1.0</td>\n",
              "      <td>4200000</td>\n",
              "      <td>1</td>\n",
              "      <td>1</td>\n",
              "      <td>1</td>\n",
              "      <td>6667.000000</td>\n",
              "    </tr>\n",
              "    <tr>\n",
              "      <th>4</th>\n",
              "      <td>650.0</td>\n",
              "      <td>2</td>\n",
              "      <td>2.0</td>\n",
              "      <td>1</td>\n",
              "      <td>282</td>\n",
              "      <td>1.0</td>\n",
              "      <td>6200000</td>\n",
              "      <td>1</td>\n",
              "      <td>0</td>\n",
              "      <td>1</td>\n",
              "      <td>6667.000000</td>\n",
              "    </tr>\n",
              "    <tr>\n",
              "      <th>...</th>\n",
              "      <td>...</td>\n",
              "      <td>...</td>\n",
              "      <td>...</td>\n",
              "      <td>...</td>\n",
              "      <td>...</td>\n",
              "      <td>...</td>\n",
              "      <td>...</td>\n",
              "      <td>...</td>\n",
              "      <td>...</td>\n",
              "      <td>...</td>\n",
              "      <td>...</td>\n",
              "    </tr>\n",
              "    <tr>\n",
              "      <th>1254</th>\n",
              "      <td>4118.0</td>\n",
              "      <td>4</td>\n",
              "      <td>5.0</td>\n",
              "      <td>2</td>\n",
              "      <td>44</td>\n",
              "      <td>3.0</td>\n",
              "      <td>55000000</td>\n",
              "      <td>1</td>\n",
              "      <td>0</td>\n",
              "      <td>1</td>\n",
              "      <td>12916.000000</td>\n",
              "    </tr>\n",
              "    <tr>\n",
              "      <th>1255</th>\n",
              "      <td>1050.0</td>\n",
              "      <td>3</td>\n",
              "      <td>2.0</td>\n",
              "      <td>1</td>\n",
              "      <td>44</td>\n",
              "      <td>3.0</td>\n",
              "      <td>12500000</td>\n",
              "      <td>1</td>\n",
              "      <td>1</td>\n",
              "      <td>1</td>\n",
              "      <td>12916.000000</td>\n",
              "    </tr>\n",
              "    <tr>\n",
              "      <th>1256</th>\n",
              "      <td>875.0</td>\n",
              "      <td>3</td>\n",
              "      <td>3.0</td>\n",
              "      <td>1</td>\n",
              "      <td>44</td>\n",
              "      <td>3.0</td>\n",
              "      <td>17500000</td>\n",
              "      <td>1</td>\n",
              "      <td>0</td>\n",
              "      <td>1</td>\n",
              "      <td>12916.000000</td>\n",
              "    </tr>\n",
              "    <tr>\n",
              "      <th>1257</th>\n",
              "      <td>990.0</td>\n",
              "      <td>2</td>\n",
              "      <td>2.0</td>\n",
              "      <td>2</td>\n",
              "      <td>45</td>\n",
              "      <td>1.0</td>\n",
              "      <td>11500000</td>\n",
              "      <td>1</td>\n",
              "      <td>1</td>\n",
              "      <td>1</td>\n",
              "      <td>12916.000000</td>\n",
              "    </tr>\n",
              "    <tr>\n",
              "      <th>1258</th>\n",
              "      <td>11050.0</td>\n",
              "      <td>3</td>\n",
              "      <td>3.0</td>\n",
              "      <td>2</td>\n",
              "      <td>44</td>\n",
              "      <td>1.0</td>\n",
              "      <td>18500000</td>\n",
              "      <td>1</td>\n",
              "      <td>0</td>\n",
              "      <td>1</td>\n",
              "      <td>12916.000000</td>\n",
              "    </tr>\n",
              "  </tbody>\n",
              "</table>\n",
              "<p>1259 rows × 11 columns</p>\n",
              "</div>\n",
              "      <button class=\"colab-df-convert\" onclick=\"convertToInteractive('df-50659512-653c-432e-98b7-dbf33c65ecfc')\"\n",
              "              title=\"Convert this dataframe to an interactive table.\"\n",
              "              style=\"display:none;\">\n",
              "        \n",
              "  <svg xmlns=\"http://www.w3.org/2000/svg\" height=\"24px\"viewBox=\"0 0 24 24\"\n",
              "       width=\"24px\">\n",
              "    <path d=\"M0 0h24v24H0V0z\" fill=\"none\"/>\n",
              "    <path d=\"M18.56 5.44l.94 2.06.94-2.06 2.06-.94-2.06-.94-.94-2.06-.94 2.06-2.06.94zm-11 1L8.5 8.5l.94-2.06 2.06-.94-2.06-.94L8.5 2.5l-.94 2.06-2.06.94zm10 10l.94 2.06.94-2.06 2.06-.94-2.06-.94-.94-2.06-.94 2.06-2.06.94z\"/><path d=\"M17.41 7.96l-1.37-1.37c-.4-.4-.92-.59-1.43-.59-.52 0-1.04.2-1.43.59L10.3 9.45l-7.72 7.72c-.78.78-.78 2.05 0 2.83L4 21.41c.39.39.9.59 1.41.59.51 0 1.02-.2 1.41-.59l7.78-7.78 2.81-2.81c.8-.78.8-2.07 0-2.86zM5.41 20L4 18.59l7.72-7.72 1.47 1.35L5.41 20z\"/>\n",
              "  </svg>\n",
              "      </button>\n",
              "      \n",
              "  <style>\n",
              "    .colab-df-container {\n",
              "      display:flex;\n",
              "      flex-wrap:wrap;\n",
              "      gap: 12px;\n",
              "    }\n",
              "\n",
              "    .colab-df-convert {\n",
              "      background-color: #E8F0FE;\n",
              "      border: none;\n",
              "      border-radius: 50%;\n",
              "      cursor: pointer;\n",
              "      display: none;\n",
              "      fill: #1967D2;\n",
              "      height: 32px;\n",
              "      padding: 0 0 0 0;\n",
              "      width: 32px;\n",
              "    }\n",
              "\n",
              "    .colab-df-convert:hover {\n",
              "      background-color: #E2EBFA;\n",
              "      box-shadow: 0px 1px 2px rgba(60, 64, 67, 0.3), 0px 1px 3px 1px rgba(60, 64, 67, 0.15);\n",
              "      fill: #174EA6;\n",
              "    }\n",
              "\n",
              "    [theme=dark] .colab-df-convert {\n",
              "      background-color: #3B4455;\n",
              "      fill: #D2E3FC;\n",
              "    }\n",
              "\n",
              "    [theme=dark] .colab-df-convert:hover {\n",
              "      background-color: #434B5C;\n",
              "      box-shadow: 0px 1px 3px 1px rgba(0, 0, 0, 0.15);\n",
              "      filter: drop-shadow(0px 1px 2px rgba(0, 0, 0, 0.3));\n",
              "      fill: #FFFFFF;\n",
              "    }\n",
              "  </style>\n",
              "\n",
              "      <script>\n",
              "        const buttonEl =\n",
              "          document.querySelector('#df-50659512-653c-432e-98b7-dbf33c65ecfc button.colab-df-convert');\n",
              "        buttonEl.style.display =\n",
              "          google.colab.kernel.accessAllowed ? 'block' : 'none';\n",
              "\n",
              "        async function convertToInteractive(key) {\n",
              "          const element = document.querySelector('#df-50659512-653c-432e-98b7-dbf33c65ecfc');\n",
              "          const dataTable =\n",
              "            await google.colab.kernel.invokeFunction('convertToInteractive',\n",
              "                                                     [key], {});\n",
              "          if (!dataTable) return;\n",
              "\n",
              "          const docLinkHtml = 'Like what you see? Visit the ' +\n",
              "            '<a target=\"_blank\" href=https://colab.research.google.com/notebooks/data_table.ipynb>data table notebook</a>'\n",
              "            + ' to learn more about interactive tables.';\n",
              "          element.innerHTML = '';\n",
              "          dataTable['output_type'] = 'display_data';\n",
              "          await google.colab.output.renderOutput(dataTable, element);\n",
              "          const docLink = document.createElement('div');\n",
              "          docLink.innerHTML = docLinkHtml;\n",
              "          element.appendChild(docLink);\n",
              "        }\n",
              "      </script>\n",
              "    </div>\n",
              "  </div>\n",
              "  "
            ]
          },
          "metadata": {},
          "execution_count": 77
        }
      ]
    },
    {
      "cell_type": "code",
      "source": [
        "X=df.drop(['Price'],axis=1).values\n",
        "y=df['Price'].values"
      ],
      "metadata": {
        "id": "eiJKvh9TTf9W"
      },
      "execution_count": 78,
      "outputs": []
    },
    {
      "cell_type": "code",
      "source": [
        "from sklearn.preprocessing import StandardScaler\n",
        "sc=StandardScaler()\n",
        "X_new=sc.fit_transform(X)"
      ],
      "metadata": {
        "id": "NGboWvF0T_ur"
      },
      "execution_count": 79,
      "outputs": []
    },
    {
      "cell_type": "code",
      "source": [
        "from sklearn.model_selection import train_test_split\n",
        "X_train,X_test,y_train,y_test=train_test_split(X_new,y,test_size=0.3,random_state=1)"
      ],
      "metadata": {
        "id": "3iLTNfhsUIsy"
      },
      "execution_count": 80,
      "outputs": []
    },
    {
      "cell_type": "code",
      "source": [
        "from sklearn.linear_model import LinearRegression\n",
        "from sklearn.ensemble import RandomForestRegressor\n",
        "from sklearn.tree import DecisionTreeRegressor\n",
        "from sklearn.linear_model import Ridge,Lasso\n",
        "from sklearn.ensemble import ExtraTreesRegressor,AdaBoostRegressor\n",
        "from sklearn.metrics import r2_score,mean_absolute_error,mean_squared_error\n",
        "rr=RandomForestRegressor(random_state=42)\n",
        "dt=DecisionTreeRegressor()\n",
        "rd=Ridge()\n",
        "ll=Lasso()\n",
        "lin=LinearRegression()\n",
        "et=ExtraTreesRegressor()\n",
        "ad=AdaBoostRegressor()\n",
        "lst=[rr,dt,rd,ll,lin,et,ad]\n",
        "for i in lst:\n",
        "  i.fit(X_train,y_train)\n",
        "  y_pred1=i.predict(X_test)\n",
        "  print('**************')\n",
        "  print(i)\n",
        "  print('**************')\n",
        "  print('r2_score:',r2_score(y_test,y_pred1))\n",
        "  print('mean absolute error:',mean_absolute_error(y_test,y_pred1))\n",
        "  print('mean squared error:',mean_squared_error(y_test,y_pred1))"
      ],
      "metadata": {
        "colab": {
          "base_uri": "https://localhost:8080/"
        },
        "id": "a8N95EQjT9d1",
        "outputId": "ab8acc76-d42b-4233-b08e-6aae5b7a3324"
      },
      "execution_count": 81,
      "outputs": [
        {
          "output_type": "stream",
          "name": "stdout",
          "text": [
            "**************\n",
            "RandomForestRegressor(random_state=42)\n",
            "**************\n",
            "r2_score: 0.8579851186644165\n",
            "mean absolute error: 5531709.5290585365\n",
            "mean squared error: 112142480465934.94\n",
            "**************\n",
            "DecisionTreeRegressor()\n",
            "**************\n",
            "r2_score: 0.6910511840957616\n",
            "mean absolute error: 7159576.719576719\n",
            "mean squared error: 243962366666666.66\n",
            "**************\n",
            "Ridge()\n",
            "**************\n",
            "r2_score: 0.6099921243026172\n",
            "mean absolute error: 10351762.531553298\n",
            "mean squared error: 307970898335679.2\n",
            "**************\n",
            "Lasso()\n",
            "**************\n",
            "r2_score: 0.6099036950136383\n",
            "mean absolute error: 10353079.184126895\n",
            "mean squared error: 308040726791110.6\n",
            "**************\n",
            "LinearRegression()\n",
            "**************\n",
            "r2_score: 0.6099036433977092\n",
            "mean absolute error: 10353079.899435623\n",
            "mean squared error: 308040767549785.1\n",
            "**************\n",
            "ExtraTreesRegressor()\n",
            "**************\n",
            "r2_score: 0.8521675292790246\n",
            "mean absolute error: 5162955.291005291\n",
            "mean squared error: 116736357515119.05\n",
            "**************\n",
            "AdaBoostRegressor()\n",
            "**************\n",
            "r2_score: 0.7810863533241184\n",
            "mean absolute error: 8808454.71953961\n",
            "mean squared error: 172865823040514.53\n"
          ]
        }
      ]
    },
    {
      "cell_type": "markdown",
      "source": [
        "feature selection"
      ],
      "metadata": {
        "id": "HFOM6sPQb1Vd"
      }
    },
    {
      "cell_type": "code",
      "source": [
        "df.corr()"
      ],
      "metadata": {
        "colab": {
          "base_uri": "https://localhost:8080/",
          "height": 394
        },
        "id": "34ssNv1SSr6Q",
        "outputId": "f13133cd-9b7d-4479-ed2b-64b2fb3f1c5c"
      },
      "execution_count": 82,
      "outputs": [
        {
          "output_type": "execute_result",
          "data": {
            "text/plain": [
              "                 Area       BHK  Bathroom  Furnishing  Locality   Parking  \\\n",
              "Area         1.000000  0.449438  0.534964   -0.003411  0.024540 -0.008595   \n",
              "BHK          0.449438  1.000000  0.772506   -0.115782  0.066992 -0.068635   \n",
              "Bathroom     0.534964  0.772506  1.000000   -0.027218  0.023704 -0.030513   \n",
              "Furnishing  -0.003411 -0.115782 -0.027218    1.000000 -0.020929  0.072196   \n",
              "Locality     0.024540  0.066992  0.023704   -0.020929  1.000000  0.009340   \n",
              "Parking     -0.008595 -0.068635 -0.030513    0.072196  0.009340  1.000000   \n",
              "Price        0.580836  0.571523  0.728148    0.018491  0.045160  0.000143   \n",
              "Status      -0.157769 -0.120472 -0.142970   -0.058870 -0.090484  0.016427   \n",
              "Transaction -0.116283 -0.137574 -0.197450   -0.039871 -0.039240  0.033411   \n",
              "Type         0.092115  0.110784  0.136374    0.006885  0.063297 -0.073647   \n",
              "Per_Sqft     0.160678  0.165145  0.206659   -0.005108 -0.003392  0.000617   \n",
              "\n",
              "                Price    Status  Transaction      Type  Per_Sqft  \n",
              "Area         0.580836 -0.157769    -0.116283  0.092115  0.160678  \n",
              "BHK          0.571523 -0.120472    -0.137574  0.110784  0.165145  \n",
              "Bathroom     0.728148 -0.142970    -0.197450  0.136374  0.206659  \n",
              "Furnishing   0.018491 -0.058870    -0.039871  0.006885 -0.005108  \n",
              "Locality     0.045160 -0.090484    -0.039240  0.063297 -0.003392  \n",
              "Parking      0.000143  0.016427     0.033411 -0.073647  0.000617  \n",
              "Price        1.000000 -0.186129    -0.218234  0.111642  0.313061  \n",
              "Status      -0.186129  1.000000     0.259478  0.031425 -0.020576  \n",
              "Transaction -0.218234  0.259478     1.000000 -0.226707 -0.028879  \n",
              "Type         0.111642  0.031425    -0.226707  1.000000  0.079859  \n",
              "Per_Sqft     0.313061 -0.020576    -0.028879  0.079859  1.000000  "
            ],
            "text/html": [
              "\n",
              "  <div id=\"df-1675406a-7e4c-4a92-85ed-ef373dada472\">\n",
              "    <div class=\"colab-df-container\">\n",
              "      <div>\n",
              "<style scoped>\n",
              "    .dataframe tbody tr th:only-of-type {\n",
              "        vertical-align: middle;\n",
              "    }\n",
              "\n",
              "    .dataframe tbody tr th {\n",
              "        vertical-align: top;\n",
              "    }\n",
              "\n",
              "    .dataframe thead th {\n",
              "        text-align: right;\n",
              "    }\n",
              "</style>\n",
              "<table border=\"1\" class=\"dataframe\">\n",
              "  <thead>\n",
              "    <tr style=\"text-align: right;\">\n",
              "      <th></th>\n",
              "      <th>Area</th>\n",
              "      <th>BHK</th>\n",
              "      <th>Bathroom</th>\n",
              "      <th>Furnishing</th>\n",
              "      <th>Locality</th>\n",
              "      <th>Parking</th>\n",
              "      <th>Price</th>\n",
              "      <th>Status</th>\n",
              "      <th>Transaction</th>\n",
              "      <th>Type</th>\n",
              "      <th>Per_Sqft</th>\n",
              "    </tr>\n",
              "  </thead>\n",
              "  <tbody>\n",
              "    <tr>\n",
              "      <th>Area</th>\n",
              "      <td>1.000000</td>\n",
              "      <td>0.449438</td>\n",
              "      <td>0.534964</td>\n",
              "      <td>-0.003411</td>\n",
              "      <td>0.024540</td>\n",
              "      <td>-0.008595</td>\n",
              "      <td>0.580836</td>\n",
              "      <td>-0.157769</td>\n",
              "      <td>-0.116283</td>\n",
              "      <td>0.092115</td>\n",
              "      <td>0.160678</td>\n",
              "    </tr>\n",
              "    <tr>\n",
              "      <th>BHK</th>\n",
              "      <td>0.449438</td>\n",
              "      <td>1.000000</td>\n",
              "      <td>0.772506</td>\n",
              "      <td>-0.115782</td>\n",
              "      <td>0.066992</td>\n",
              "      <td>-0.068635</td>\n",
              "      <td>0.571523</td>\n",
              "      <td>-0.120472</td>\n",
              "      <td>-0.137574</td>\n",
              "      <td>0.110784</td>\n",
              "      <td>0.165145</td>\n",
              "    </tr>\n",
              "    <tr>\n",
              "      <th>Bathroom</th>\n",
              "      <td>0.534964</td>\n",
              "      <td>0.772506</td>\n",
              "      <td>1.000000</td>\n",
              "      <td>-0.027218</td>\n",
              "      <td>0.023704</td>\n",
              "      <td>-0.030513</td>\n",
              "      <td>0.728148</td>\n",
              "      <td>-0.142970</td>\n",
              "      <td>-0.197450</td>\n",
              "      <td>0.136374</td>\n",
              "      <td>0.206659</td>\n",
              "    </tr>\n",
              "    <tr>\n",
              "      <th>Furnishing</th>\n",
              "      <td>-0.003411</td>\n",
              "      <td>-0.115782</td>\n",
              "      <td>-0.027218</td>\n",
              "      <td>1.000000</td>\n",
              "      <td>-0.020929</td>\n",
              "      <td>0.072196</td>\n",
              "      <td>0.018491</td>\n",
              "      <td>-0.058870</td>\n",
              "      <td>-0.039871</td>\n",
              "      <td>0.006885</td>\n",
              "      <td>-0.005108</td>\n",
              "    </tr>\n",
              "    <tr>\n",
              "      <th>Locality</th>\n",
              "      <td>0.024540</td>\n",
              "      <td>0.066992</td>\n",
              "      <td>0.023704</td>\n",
              "      <td>-0.020929</td>\n",
              "      <td>1.000000</td>\n",
              "      <td>0.009340</td>\n",
              "      <td>0.045160</td>\n",
              "      <td>-0.090484</td>\n",
              "      <td>-0.039240</td>\n",
              "      <td>0.063297</td>\n",
              "      <td>-0.003392</td>\n",
              "    </tr>\n",
              "    <tr>\n",
              "      <th>Parking</th>\n",
              "      <td>-0.008595</td>\n",
              "      <td>-0.068635</td>\n",
              "      <td>-0.030513</td>\n",
              "      <td>0.072196</td>\n",
              "      <td>0.009340</td>\n",
              "      <td>1.000000</td>\n",
              "      <td>0.000143</td>\n",
              "      <td>0.016427</td>\n",
              "      <td>0.033411</td>\n",
              "      <td>-0.073647</td>\n",
              "      <td>0.000617</td>\n",
              "    </tr>\n",
              "    <tr>\n",
              "      <th>Price</th>\n",
              "      <td>0.580836</td>\n",
              "      <td>0.571523</td>\n",
              "      <td>0.728148</td>\n",
              "      <td>0.018491</td>\n",
              "      <td>0.045160</td>\n",
              "      <td>0.000143</td>\n",
              "      <td>1.000000</td>\n",
              "      <td>-0.186129</td>\n",
              "      <td>-0.218234</td>\n",
              "      <td>0.111642</td>\n",
              "      <td>0.313061</td>\n",
              "    </tr>\n",
              "    <tr>\n",
              "      <th>Status</th>\n",
              "      <td>-0.157769</td>\n",
              "      <td>-0.120472</td>\n",
              "      <td>-0.142970</td>\n",
              "      <td>-0.058870</td>\n",
              "      <td>-0.090484</td>\n",
              "      <td>0.016427</td>\n",
              "      <td>-0.186129</td>\n",
              "      <td>1.000000</td>\n",
              "      <td>0.259478</td>\n",
              "      <td>0.031425</td>\n",
              "      <td>-0.020576</td>\n",
              "    </tr>\n",
              "    <tr>\n",
              "      <th>Transaction</th>\n",
              "      <td>-0.116283</td>\n",
              "      <td>-0.137574</td>\n",
              "      <td>-0.197450</td>\n",
              "      <td>-0.039871</td>\n",
              "      <td>-0.039240</td>\n",
              "      <td>0.033411</td>\n",
              "      <td>-0.218234</td>\n",
              "      <td>0.259478</td>\n",
              "      <td>1.000000</td>\n",
              "      <td>-0.226707</td>\n",
              "      <td>-0.028879</td>\n",
              "    </tr>\n",
              "    <tr>\n",
              "      <th>Type</th>\n",
              "      <td>0.092115</td>\n",
              "      <td>0.110784</td>\n",
              "      <td>0.136374</td>\n",
              "      <td>0.006885</td>\n",
              "      <td>0.063297</td>\n",
              "      <td>-0.073647</td>\n",
              "      <td>0.111642</td>\n",
              "      <td>0.031425</td>\n",
              "      <td>-0.226707</td>\n",
              "      <td>1.000000</td>\n",
              "      <td>0.079859</td>\n",
              "    </tr>\n",
              "    <tr>\n",
              "      <th>Per_Sqft</th>\n",
              "      <td>0.160678</td>\n",
              "      <td>0.165145</td>\n",
              "      <td>0.206659</td>\n",
              "      <td>-0.005108</td>\n",
              "      <td>-0.003392</td>\n",
              "      <td>0.000617</td>\n",
              "      <td>0.313061</td>\n",
              "      <td>-0.020576</td>\n",
              "      <td>-0.028879</td>\n",
              "      <td>0.079859</td>\n",
              "      <td>1.000000</td>\n",
              "    </tr>\n",
              "  </tbody>\n",
              "</table>\n",
              "</div>\n",
              "      <button class=\"colab-df-convert\" onclick=\"convertToInteractive('df-1675406a-7e4c-4a92-85ed-ef373dada472')\"\n",
              "              title=\"Convert this dataframe to an interactive table.\"\n",
              "              style=\"display:none;\">\n",
              "        \n",
              "  <svg xmlns=\"http://www.w3.org/2000/svg\" height=\"24px\"viewBox=\"0 0 24 24\"\n",
              "       width=\"24px\">\n",
              "    <path d=\"M0 0h24v24H0V0z\" fill=\"none\"/>\n",
              "    <path d=\"M18.56 5.44l.94 2.06.94-2.06 2.06-.94-2.06-.94-.94-2.06-.94 2.06-2.06.94zm-11 1L8.5 8.5l.94-2.06 2.06-.94-2.06-.94L8.5 2.5l-.94 2.06-2.06.94zm10 10l.94 2.06.94-2.06 2.06-.94-2.06-.94-.94-2.06-.94 2.06-2.06.94z\"/><path d=\"M17.41 7.96l-1.37-1.37c-.4-.4-.92-.59-1.43-.59-.52 0-1.04.2-1.43.59L10.3 9.45l-7.72 7.72c-.78.78-.78 2.05 0 2.83L4 21.41c.39.39.9.59 1.41.59.51 0 1.02-.2 1.41-.59l7.78-7.78 2.81-2.81c.8-.78.8-2.07 0-2.86zM5.41 20L4 18.59l7.72-7.72 1.47 1.35L5.41 20z\"/>\n",
              "  </svg>\n",
              "      </button>\n",
              "      \n",
              "  <style>\n",
              "    .colab-df-container {\n",
              "      display:flex;\n",
              "      flex-wrap:wrap;\n",
              "      gap: 12px;\n",
              "    }\n",
              "\n",
              "    .colab-df-convert {\n",
              "      background-color: #E8F0FE;\n",
              "      border: none;\n",
              "      border-radius: 50%;\n",
              "      cursor: pointer;\n",
              "      display: none;\n",
              "      fill: #1967D2;\n",
              "      height: 32px;\n",
              "      padding: 0 0 0 0;\n",
              "      width: 32px;\n",
              "    }\n",
              "\n",
              "    .colab-df-convert:hover {\n",
              "      background-color: #E2EBFA;\n",
              "      box-shadow: 0px 1px 2px rgba(60, 64, 67, 0.3), 0px 1px 3px 1px rgba(60, 64, 67, 0.15);\n",
              "      fill: #174EA6;\n",
              "    }\n",
              "\n",
              "    [theme=dark] .colab-df-convert {\n",
              "      background-color: #3B4455;\n",
              "      fill: #D2E3FC;\n",
              "    }\n",
              "\n",
              "    [theme=dark] .colab-df-convert:hover {\n",
              "      background-color: #434B5C;\n",
              "      box-shadow: 0px 1px 3px 1px rgba(0, 0, 0, 0.15);\n",
              "      filter: drop-shadow(0px 1px 2px rgba(0, 0, 0, 0.3));\n",
              "      fill: #FFFFFF;\n",
              "    }\n",
              "  </style>\n",
              "\n",
              "      <script>\n",
              "        const buttonEl =\n",
              "          document.querySelector('#df-1675406a-7e4c-4a92-85ed-ef373dada472 button.colab-df-convert');\n",
              "        buttonEl.style.display =\n",
              "          google.colab.kernel.accessAllowed ? 'block' : 'none';\n",
              "\n",
              "        async function convertToInteractive(key) {\n",
              "          const element = document.querySelector('#df-1675406a-7e4c-4a92-85ed-ef373dada472');\n",
              "          const dataTable =\n",
              "            await google.colab.kernel.invokeFunction('convertToInteractive',\n",
              "                                                     [key], {});\n",
              "          if (!dataTable) return;\n",
              "\n",
              "          const docLinkHtml = 'Like what you see? Visit the ' +\n",
              "            '<a target=\"_blank\" href=https://colab.research.google.com/notebooks/data_table.ipynb>data table notebook</a>'\n",
              "            + ' to learn more about interactive tables.';\n",
              "          element.innerHTML = '';\n",
              "          dataTable['output_type'] = 'display_data';\n",
              "          await google.colab.output.renderOutput(dataTable, element);\n",
              "          const docLink = document.createElement('div');\n",
              "          docLink.innerHTML = docLinkHtml;\n",
              "          element.appendChild(docLink);\n",
              "        }\n",
              "      </script>\n",
              "    </div>\n",
              "  </div>\n",
              "  "
            ]
          },
          "metadata": {},
          "execution_count": 82
        }
      ]
    },
    {
      "cell_type": "code",
      "source": [
        "sns.heatmap(df.corr())"
      ],
      "metadata": {
        "colab": {
          "base_uri": "https://localhost:8080/",
          "height": 333
        },
        "id": "CfEraN129JRI",
        "outputId": "5f67e99c-7d7c-4642-c1b1-a5d36f694114"
      },
      "execution_count": 83,
      "outputs": [
        {
          "output_type": "execute_result",
          "data": {
            "text/plain": [
              "<matplotlib.axes._subplots.AxesSubplot at 0x7f3f11b27c10>"
            ]
          },
          "metadata": {},
          "execution_count": 83
        },
        {
          "output_type": "display_data",
          "data": {
            "text/plain": [
              "<Figure size 432x288 with 2 Axes>"
            ],
            "image/png": "[encoded data removed]"
          },
          "metadata": {
            "needs_background": "light"
          }
        }
      ]
    },
    {
      "cell_type": "code",
      "source": [
        "df.drop(['Parking','Furnishing'],axis=1,inplace=True)"
      ],
      "metadata": {
        "id": "jCLWjJ6TS4W5"
      },
      "execution_count": 84,
      "outputs": []
    },
    {
      "cell_type": "code",
      "source": [
        "X=df.drop(['Price'],axis=1).values\n",
        "y=df['Price'].values"
      ],
      "metadata": {
        "id": "IBx8DaCrlXvk"
      },
      "execution_count": 85,
      "outputs": []
    },
    {
      "cell_type": "code",
      "source": [
        "from sklearn.preprocessing import StandardScaler\n",
        "sc=StandardScaler()\n",
        "X_new=sc.fit_transform(X)"
      ],
      "metadata": {
        "id": "Pii3ta3SkxvI"
      },
      "execution_count": 86,
      "outputs": []
    },
    {
      "cell_type": "code",
      "source": [
        "from sklearn.model_selection import train_test_split\n",
        "X_train,X_test,y_train,y_test=train_test_split(X_new,y,test_size=0.3,random_state=1)"
      ],
      "metadata": {
        "id": "l484xfRVmIa_"
      },
      "execution_count": 87,
      "outputs": []
    },
    {
      "cell_type": "code",
      "source": [
        "from sklearn.linear_model import LinearRegression\n",
        "from sklearn.ensemble import RandomForestRegressor\n",
        "from sklearn.tree import DecisionTreeRegressor\n",
        "from sklearn.linear_model import Ridge,Lasso\n",
        "from sklearn.ensemble import ExtraTreesRegressor,AdaBoostRegressor\n",
        "from sklearn.metrics import r2_score,mean_absolute_error,mean_squared_error\n",
        "rr=RandomForestRegressor(random_state=42)\n",
        "dt=DecisionTreeRegressor()\n",
        "rd=Ridge()\n",
        "ll=Lasso()\n",
        "lin=LinearRegression()\n",
        "et=ExtraTreesRegressor()\n",
        "ad=AdaBoostRegressor()\n",
        "lst=[rr,dt,rd,ll,lin,et,ad]\n",
        "for i in lst:\n",
        "  i.fit(X_train,y_train)\n",
        "  y_pred1=i.predict(X_test)\n",
        "  print('**************')\n",
        "  print(i)\n",
        "  print('**************')\n",
        "  print('r2_score:',r2_score(y_test,y_pred1))\n",
        "  print('mean absolute error:',mean_absolute_error(y_test,y_pred1))\n",
        "  print('mean squared error:',mean_squared_error(y_test,y_pred1))\n"
      ],
      "metadata": {
        "colab": {
          "base_uri": "https://localhost:8080/"
        },
        "id": "cxWsZoKvoYYm",
        "outputId": "c0f55c28-e152-4ad4-ebee-dea3256ab301"
      },
      "execution_count": 88,
      "outputs": [
        {
          "output_type": "stream",
          "name": "stdout",
          "text": [
            "**************\n",
            "RandomForestRegressor(random_state=42)\n",
            "**************\n",
            "r2_score: 0.8584339524647058\n",
            "mean absolute error: 5556171.367682876\n",
            "mean squared error: 111788057498369.66\n",
            "**************\n",
            "DecisionTreeRegressor()\n",
            "**************\n",
            "r2_score: 0.7033598562166093\n",
            "mean absolute error: 6735211.64021164\n",
            "mean squared error: 234242786507936.5\n",
            "**************\n",
            "Ridge()\n",
            "**************\n",
            "r2_score: 0.6224960137686382\n",
            "mean absolute error: 10093794.69990363\n",
            "mean squared error: 298097164210042.0\n",
            "**************\n",
            "Lasso()\n",
            "**************\n",
            "r2_score: 0.622551351611015\n",
            "mean absolute error: 10093891.699622883\n",
            "mean squared error: 298053466515480.6\n",
            "**************\n",
            "LinearRegression()\n",
            "**************\n",
            "r2_score: 0.6225513622657832\n",
            "mean absolute error: 10093891.676032849\n",
            "mean squared error: 298053458101910.75\n",
            "**************\n",
            "ExtraTreesRegressor()\n",
            "**************\n",
            "r2_score: 0.8631385278395871\n",
            "mean absolute error: 5093136.64021164\n",
            "mean squared error: 108073075328075.39\n",
            "**************\n",
            "AdaBoostRegressor()\n",
            "**************\n",
            "r2_score: 0.7783629254836104\n",
            "mean absolute error: 10382191.832432056\n",
            "mean squared error: 175016386069770.88\n"
          ]
        }
      ]
    },
    {
      "cell_type": "markdown",
      "source": [
        "hyperparameter tuning  decision tree regressor"
      ],
      "metadata": {
        "id": "fDMh98fSgC9U"
      }
    },
    {
      "cell_type": "code",
      "source": [
        "from sklearn.model_selection import GridSearchCV\n",
        "clf1=DecisionTreeRegressor()\n",
        "params={'criterion':['squared_error','friedman_mse','absolute_error','poisson'],'splitter':['best','random']}\n",
        "cls=GridSearchCV(clf1,params,cv=10,scoring='r2')\n",
        "cls.fit(X_train,y_train)"
      ],
      "metadata": {
        "colab": {
          "base_uri": "https://localhost:8080/"
        },
        "id": "xFmVZC2Bvd4E",
        "outputId": "8196f656-d37f-41e9-8175-f5aba2a39633"
      },
      "execution_count": 89,
      "outputs": [
        {
          "output_type": "execute_result",
          "data": {
            "text/plain": [
              "GridSearchCV(cv=10, estimator=DecisionTreeRegressor(),\n",
              "             param_grid={'criterion': ['squared_error', 'friedman_mse',\n",
              "                                       'absolute_error', 'poisson'],\n",
              "                         'splitter': ['best', 'random']},\n",
              "             scoring='r2')"
            ]
          },
          "metadata": {},
          "execution_count": 89
        }
      ]
    },
    {
      "cell_type": "code",
      "source": [
        "print(cls.best_params_)"
      ],
      "metadata": {
        "colab": {
          "base_uri": "https://localhost:8080/"
        },
        "id": "jy7cfzca0c4b",
        "outputId": "72f441b1-4d82-442d-dc9c-25bf2207c146"
      },
      "execution_count": 90,
      "outputs": [
        {
          "output_type": "stream",
          "name": "stdout",
          "text": [
            "{'criterion': 'squared_error', 'splitter': 'best'}\n"
          ]
        }
      ]
    },
    {
      "cell_type": "code",
      "source": [
        "clf2=DecisionTreeRegressor(criterion='squared_error',splitter='best',random_state=1)\n",
        "clf2.fit(X_train,y_train)\n",
        "y_pred2=clf2.predict(X_test)\n",
        "print(r2_score(y_test,y_pred2))"
      ],
      "metadata": {
        "colab": {
          "base_uri": "https://localhost:8080/"
        },
        "id": "isifnO4T0vn_",
        "outputId": "23dec8cd-0a01-4634-8397-7ae7eef6efe6"
      },
      "execution_count": 91,
      "outputs": [
        {
          "output_type": "stream",
          "name": "stdout",
          "text": [
            "0.7186208912840758\n"
          ]
        }
      ]
    },
    {
      "cell_type": "markdown",
      "source": [
        "hyperparameter tuning randomforest regressor"
      ],
      "metadata": {
        "id": "EcoR-Ytuf4z-"
      }
    },
    {
      "cell_type": "code",
      "source": [
        "from sklearn.model_selection import GridSearchCV\n",
        "clf1=RandomForestRegressor()\n",
        "params={'max_features':['sqrt','log2','None'],'n_estimators':[100,200,300]}\n",
        "cls=GridSearchCV(clf1,params,cv=15,scoring='r2')\n",
        "cls.fit(X_train,y_train)"
      ],
      "metadata": {
        "colab": {
          "base_uri": "https://localhost:8080/"
        },
        "id": "kJTucWWBWEuT",
        "outputId": "9318462f-d723-46fa-c3ec-19f38b25ef5b"
      },
      "execution_count": 92,
      "outputs": [
        {
          "output_type": "execute_result",
          "data": {
            "text/plain": [
              "GridSearchCV(cv=15, estimator=RandomForestRegressor(),\n",
              "             param_grid={'max_features': ['sqrt', 'log2', 'None'],\n",
              "                         'n_estimators': [100, 200, 300]},\n",
              "             scoring='r2')"
            ]
          },
          "metadata": {},
          "execution_count": 92
        }
      ]
    },
    {
      "cell_type": "code",
      "source": [
        "print(cls.best_params_)"
      ],
      "metadata": {
        "colab": {
          "base_uri": "https://localhost:8080/"
        },
        "id": "kjA7ZHepXep1",
        "outputId": "44661216-8996-4f6e-9f62-eb914a8b9c28"
      },
      "execution_count": 93,
      "outputs": [
        {
          "output_type": "stream",
          "name": "stdout",
          "text": [
            "{'max_features': 'sqrt', 'n_estimators': 300}\n"
          ]
        }
      ]
    },
    {
      "cell_type": "code",
      "source": [
        "clf3=RandomForestRegressor(n_estimators=300,max_features='sqrt',random_state=42)\n",
        "clf3.fit(X_train,y_train)\n",
        "y_pred3=clf3.predict(X_test)\n",
        "print(r2_score(y_test,y_pred3))"
      ],
      "metadata": {
        "colab": {
          "base_uri": "https://localhost:8080/"
        },
        "id": "Tg2KtzqsYVXy",
        "outputId": "f8da3f2c-bbc9-4e80-8bd7-c725f8d658d9"
      },
      "execution_count": 96,
      "outputs": [
        {
          "output_type": "stream",
          "name": "stdout",
          "text": [
            "0.8900959645716726\n"
          ]
        }
      ]
    },
    {
      "cell_type": "markdown",
      "source": [
        "Got highest r2_score in random forest regressor and using feature selection method  such as 89% "
      ],
      "metadata": {
        "id": "1zTxUDLE1bk2"
      }
    },
    {
      "cell_type": "code",
      "source": [
        "clf3.predict(sc.transform([[750.0,2,2.0,25,1,0,1,6667.0]]))"
      ],
      "metadata": {
        "colab": {
          "base_uri": "https://localhost:8080/"
        },
        "id": "tDnAeb_E5dRU",
        "outputId": "f6b3f605-1207-4dbe-9fcd-ca260dcafbc1"
      },
      "execution_count": 95,
      "outputs": [
        {
          "output_type": "execute_result",
          "data": {
            "text/plain": [
              "array([5160200.])"
            ]
          },
          "metadata": {},
          "execution_count": 95
        }
      ]
    }
  ]
}